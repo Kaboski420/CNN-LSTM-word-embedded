{
 "cells": [
  {
   "cell_type": "code",
   "execution_count": 136,
   "metadata": {
    "id": "oX52W_8ryIII"
   },
   "outputs": [],
   "source": [
    "# supresses future warnings \n",
    "\n",
    "import warnings                                                 \n",
    "warnings.simplefilter(action='ignore')\n",
    "\n",
    "import collections\n",
    "import math\n",
    "import numpy as np\n",
    "import pandas as pd\n",
    "import re\n",
    "# Importing Maplotlib for Visualiztion\n",
    "\n",
    "from matplotlib import pyplot\n",
    "import matplotlib.pyplot as plt\n",
    "%matplotlib inline\n",
    "from matplotlib import style\n",
    "\n",
    "\n",
    "from nltk import word_tokenize\n",
    "from tensorflow.python.keras.optimizer_v2 import adam\n",
    "from keras.models import Sequential\n",
    "from keras.layers import Dense, Dropout, LSTM, Embedding\n",
    "from keras.preprocessing.text import Tokenizer\n",
    "#from keras.preprocessing.sequence import pad_sequences\n",
    "from nltk.corpus import stopwords\n",
    "from keras.optimizers import adam_v2\n",
    "\n",
    "from keras.layers import SimpleRNN,LSTM,CuDNNGRU,CuDNNLSTM,Conv1D,MaxPooling1D,Dropout\n",
    "from keras import regularizers\n",
    "from keras.layers import BatchNormalization\n",
    "from keras import optimizers\n",
    "from keras import initializers\n",
    "\n",
    "from keras.callbacks import *\n",
    "from keras import backend as K\n",
    "import keras \n",
    "\n",
    "from keras.callbacks import *\n",
    "from keras.optimizers import Adam\n",
    "\n",
    "# For creating model and training\n",
    "\n",
    "from tensorflow.keras.layers import Bidirectional, TimeDistributed\n",
    "from tensorflow.keras.layers import Flatten\n",
    "from tensorflow.keras.regularizers import L1, L2\n",
    "\n",
    "## For Evaluation\n",
    "\n",
    "from tensorflow.keras.metrics import Accuracy\n",
    "from tensorflow.keras.metrics import RootMeanSquaredError\n",
    "from keras.layers import Dense,RepeatVector\n"
   ]
  },
  {
   "cell_type": "code",
   "execution_count": 2,
   "metadata": {
    "id": "_IedasQIySEh"
   },
   "outputs": [],
   "source": [
    "def clean_text(words):\n",
    "    result = []\n",
    "    for sentence in words:\n",
    "        sent_temp = ''\n",
    "        for c in sentence:\n",
    "            if c == ' ':\n",
    "                sent_temp += c\n",
    "            elif ord(u'\\u0900') <= ord(c) <= ord(u'\\u097F'):\n",
    "                sent_temp += c\n",
    "        sentence = sent_temp\n",
    "        sentence=re.sub('\\||`|~|;|{|}|]|\\[|=|\\^|\\$|&|\\*|<|>|/|\\'|#|@|!|%|-|\\?|\"|,|\\(|\\)|\\.|:|\\+|_', ' ', sentence)\n",
    "        sentence = re.sub('[a-zA-Z0-9]+', ' ', sentence)\n",
    "        sentence = re.sub('[०१२३४५६७८९।]', '', sentence)\n",
    "        sentence = sentence.strip()\n",
    "        sentence = re.sub(\" +\", \" \", sentence)\n",
    "        result.append(sentence)\n",
    "    return result"
   ]
  },
  {
   "cell_type": "markdown",
   "metadata": {},
   "source": [
    "### Dataset"
   ]
  },
  {
   "cell_type": "code",
   "execution_count": 3,
   "metadata": {
    "id": "3Zz96hfpy148"
   },
   "outputs": [],
   "source": [
    "def read_data(filename):\n",
    "    with open(filename, encoding=\"utf8\") as file:\n",
    "        data = file.readlines()\n",
    "    return data\n",
    "wor = read_data('IITB.en-hi.hi')"
   ]
  },
  {
   "cell_type": "code",
   "execution_count": 4,
   "metadata": {},
   "outputs": [
    {
     "data": {
      "text/plain": [
       "1659083"
      ]
     },
     "execution_count": 4,
     "metadata": {},
     "output_type": "execute_result"
    }
   ],
   "source": [
    "len(wor)"
   ]
  },
  {
   "cell_type": "code",
   "execution_count": 5,
   "metadata": {},
   "outputs": [],
   "source": [
    "data=wor[-10000:]"
   ]
  },
  {
   "cell_type": "code",
   "execution_count": 6,
   "metadata": {},
   "outputs": [
    {
     "data": {
      "text/plain": [
       "10000"
      ]
     },
     "execution_count": 6,
     "metadata": {},
     "output_type": "execute_result"
    }
   ],
   "source": [
    "len(data)"
   ]
  },
  {
   "cell_type": "code",
   "execution_count": 7,
   "metadata": {
    "id": "ERfqfj8F0JWV"
   },
   "outputs": [],
   "source": [
    "hindi_data = clean_text(wor[-10000:])"
   ]
  },
  {
   "cell_type": "code",
   "execution_count": 8,
   "metadata": {
    "id": "ecrcskaeiZPe"
   },
   "outputs": [],
   "source": [
    "data = pd.DataFrame(hindi_data)"
   ]
  },
  {
   "cell_type": "code",
   "execution_count": 9,
   "metadata": {
    "colab": {
     "base_uri": "https://localhost:8080/",
     "height": 206
    },
    "executionInfo": {
     "elapsed": 115,
     "status": "ok",
     "timestamp": 1665516884707,
     "user": {
      "displayName": "Aadi Sammeta",
      "userId": "18074111941583894854"
     },
     "user_tz": 300
    },
    "id": "a9pI7HRDiils",
    "outputId": "a0ce0721-4144-4cda-952c-6a9288c80154"
   },
   "outputs": [
    {
     "data": {
      "text/html": [
       "<div>\n",
       "<style scoped>\n",
       "    .dataframe tbody tr th:only-of-type {\n",
       "        vertical-align: middle;\n",
       "    }\n",
       "\n",
       "    .dataframe tbody tr th {\n",
       "        vertical-align: top;\n",
       "    }\n",
       "\n",
       "    .dataframe thead th {\n",
       "        text-align: right;\n",
       "    }\n",
       "</style>\n",
       "<table border=\"1\" class=\"dataframe\">\n",
       "  <thead>\n",
       "    <tr style=\"text-align: right;\">\n",
       "      <th></th>\n",
       "      <th>0</th>\n",
       "    </tr>\n",
       "  </thead>\n",
       "  <tbody>\n",
       "    <tr>\n",
       "      <th>0</th>\n",
       "      <td>लेकिन इसका काम भी उलझा रहा अटका रहा</td>\n",
       "    </tr>\n",
       "    <tr>\n",
       "      <th>1</th>\n",
       "      <td>में हमारी सरकार आने के बाद हमने कोसी महासेतु क...</td>\n",
       "    </tr>\n",
       "    <tr>\n",
       "      <th>2</th>\n",
       "      <td>अब से कुछ दिन पहले ही कोसी महासेतु का भी लोकार...</td>\n",
       "    </tr>\n",
       "    <tr>\n",
       "      <th>3</th>\n",
       "      <td>यह देश के लगभग हर हिस्से में कनेक्टिविटी से जु...</td>\n",
       "    </tr>\n",
       "    <tr>\n",
       "      <th>4</th>\n",
       "      <td>लेकिन स्थिति अब तीव्र गति से बदल रही है</td>\n",
       "    </tr>\n",
       "  </tbody>\n",
       "</table>\n",
       "</div>"
      ],
      "text/plain": [
       "                                                   0\n",
       "0                लेकिन इसका काम भी उलझा रहा अटका रहा\n",
       "1  में हमारी सरकार आने के बाद हमने कोसी महासेतु क...\n",
       "2  अब से कुछ दिन पहले ही कोसी महासेतु का भी लोकार...\n",
       "3  यह देश के लगभग हर हिस्से में कनेक्टिविटी से जु...\n",
       "4            लेकिन स्थिति अब तीव्र गति से बदल रही है"
      ]
     },
     "execution_count": 9,
     "metadata": {},
     "output_type": "execute_result"
    }
   ],
   "source": [
    "data.head()"
   ]
  },
  {
   "cell_type": "code",
   "execution_count": 10,
   "metadata": {
    "colab": {
     "base_uri": "https://localhost:8080/"
    },
    "executionInfo": {
     "elapsed": 120,
     "status": "ok",
     "timestamp": 1665516889913,
     "user": {
      "displayName": "Aadi Sammeta",
      "userId": "18074111941583894854"
     },
     "user_tz": 300
    },
    "id": "CJcPlwgRilaz",
    "outputId": "37bf4f05-fac1-45c2-d18b-42096bb08a00",
    "scrolled": true
   },
   "outputs": [
    {
     "name": "stdout",
     "output_type": "stream",
     "text": [
      "<class 'pandas.core.frame.DataFrame'>\n",
      "RangeIndex: 10000 entries, 0 to 9999\n",
      "Data columns (total 1 columns):\n",
      " #   Column  Non-Null Count  Dtype \n",
      "---  ------  --------------  ----- \n",
      " 0   0       10000 non-null  object\n",
      "dtypes: object(1)\n",
      "memory usage: 78.2+ KB\n"
     ]
    }
   ],
   "source": [
    "data.info()"
   ]
  },
  {
   "cell_type": "code",
   "execution_count": 11,
   "metadata": {
    "colab": {
     "base_uri": "https://localhost:8080/"
    },
    "executionInfo": {
     "elapsed": 134,
     "status": "ok",
     "timestamp": 1665516902395,
     "user": {
      "displayName": "Aadi Sammeta",
      "userId": "18074111941583894854"
     },
     "user_tz": 300
    },
    "id": "1f0W9ROGioUm",
    "outputId": "43017158-386a-4bd7-b71c-ad833e48caf2"
   },
   "outputs": [
    {
     "data": {
      "text/plain": [
       "(10000, 1)"
      ]
     },
     "execution_count": 11,
     "metadata": {},
     "output_type": "execute_result"
    }
   ],
   "source": [
    "data.shape"
   ]
  },
  {
   "cell_type": "code",
   "execution_count": 12,
   "metadata": {},
   "outputs": [],
   "source": [
    "data.rename(columns={0:'sentence'},inplace=True)"
   ]
  },
  {
   "cell_type": "code",
   "execution_count": 13,
   "metadata": {},
   "outputs": [
    {
     "data": {
      "text/html": [
       "<div>\n",
       "<style scoped>\n",
       "    .dataframe tbody tr th:only-of-type {\n",
       "        vertical-align: middle;\n",
       "    }\n",
       "\n",
       "    .dataframe tbody tr th {\n",
       "        vertical-align: top;\n",
       "    }\n",
       "\n",
       "    .dataframe thead th {\n",
       "        text-align: right;\n",
       "    }\n",
       "</style>\n",
       "<table border=\"1\" class=\"dataframe\">\n",
       "  <thead>\n",
       "    <tr style=\"text-align: right;\">\n",
       "      <th></th>\n",
       "      <th>sentence</th>\n",
       "    </tr>\n",
       "  </thead>\n",
       "  <tbody>\n",
       "    <tr>\n",
       "      <th>0</th>\n",
       "      <td>लेकिन इसका काम भी उलझा रहा अटका रहा</td>\n",
       "    </tr>\n",
       "    <tr>\n",
       "      <th>1</th>\n",
       "      <td>में हमारी सरकार आने के बाद हमने कोसी महासेतु क...</td>\n",
       "    </tr>\n",
       "    <tr>\n",
       "      <th>2</th>\n",
       "      <td>अब से कुछ दिन पहले ही कोसी महासेतु का भी लोकार...</td>\n",
       "    </tr>\n",
       "    <tr>\n",
       "      <th>3</th>\n",
       "      <td>यह देश के लगभग हर हिस्से में कनेक्टिविटी से जु...</td>\n",
       "    </tr>\n",
       "    <tr>\n",
       "      <th>4</th>\n",
       "      <td>लेकिन स्थिति अब तीव्र गति से बदल रही है</td>\n",
       "    </tr>\n",
       "    <tr>\n",
       "      <th>...</th>\n",
       "      <td>...</td>\n",
       "    </tr>\n",
       "    <tr>\n",
       "      <th>9995</th>\n",
       "      <td>प्रधानमंत्री श्री नरेन्द्र मोदी ने बिहार के मु...</td>\n",
       "    </tr>\n",
       "    <tr>\n",
       "      <th>9996</th>\n",
       "      <td>एक ट्वीट में प्रधानमंत्री ने कहा बिहार के मुख्...</td>\n",
       "    </tr>\n",
       "    <tr>\n",
       "      <th>9997</th>\n",
       "      <td>मैं उन सभी को भी बधाई देता हूं जिन्होंने बिहार...</td>\n",
       "    </tr>\n",
       "    <tr>\n",
       "      <th>9998</th>\n",
       "      <td>एनडीए परिवार बिहार की प्रगति के लिए साथ मिलकर ...</td>\n",
       "    </tr>\n",
       "    <tr>\n",
       "      <th>9999</th>\n",
       "      <td>बिहार के कल्याण के लिए केंद्र की ओर से हरसंभव ...</td>\n",
       "    </tr>\n",
       "  </tbody>\n",
       "</table>\n",
       "<p>10000 rows × 1 columns</p>\n",
       "</div>"
      ],
      "text/plain": [
       "                                               sentence\n",
       "0                   लेकिन इसका काम भी उलझा रहा अटका रहा\n",
       "1     में हमारी सरकार आने के बाद हमने कोसी महासेतु क...\n",
       "2     अब से कुछ दिन पहले ही कोसी महासेतु का भी लोकार...\n",
       "3     यह देश के लगभग हर हिस्से में कनेक्टिविटी से जु...\n",
       "4               लेकिन स्थिति अब तीव्र गति से बदल रही है\n",
       "...                                                 ...\n",
       "9995  प्रधानमंत्री श्री नरेन्द्र मोदी ने बिहार के मु...\n",
       "9996  एक ट्वीट में प्रधानमंत्री ने कहा बिहार के मुख्...\n",
       "9997  मैं उन सभी को भी बधाई देता हूं जिन्होंने बिहार...\n",
       "9998  एनडीए परिवार बिहार की प्रगति के लिए साथ मिलकर ...\n",
       "9999  बिहार के कल्याण के लिए केंद्र की ओर से हरसंभव ...\n",
       "\n",
       "[10000 rows x 1 columns]"
      ]
     },
     "execution_count": 13,
     "metadata": {},
     "output_type": "execute_result"
    }
   ],
   "source": [
    "data"
   ]
  },
  {
   "cell_type": "code",
   "execution_count": 14,
   "metadata": {},
   "outputs": [
    {
     "data": {
      "text/plain": [
       "sentence    0\n",
       "dtype: int64"
      ]
     },
     "execution_count": 14,
     "metadata": {},
     "output_type": "execute_result"
    }
   ],
   "source": [
    "data.isna().sum()"
   ]
  },
  {
   "cell_type": "code",
   "execution_count": 15,
   "metadata": {},
   "outputs": [
    {
     "data": {
      "text/plain": [
       "sentence                                                                   \n",
       "वीं कार्यकारी समिति की बैठक का कार्यवृत्त                                      6\n",
       "वीं कार्यकारिणी समिति की बैठक का कार्यवृत्त                                    4\n",
       "तीर्थंकर                                                                       3\n",
       "ओम शांति                                                                       3\n",
       "बैठे जिना                                                                      3\n",
       "                                                                              ..\n",
       "गांधीजी पहले मुज़फ़्फ़रपुर पहुँचे                                              1\n",
       "गांधीजी रास्ते से लौट आए लेकिन उन्होंने नोटिस का पालन करने से इंकार कर दिया    1\n",
       "गांव के लिए करना है गरीब के लिए करना है                                        1\n",
       "गांव में थी                                                                    1\n",
       "ख़ुश्क अनुनादक के साथ लकड़ी से निर्मित एक आयताकार ढाँचे वाला धनुर्वाद्य          1\n",
       "Length: 9756, dtype: int64"
      ]
     },
     "execution_count": 15,
     "metadata": {},
     "output_type": "execute_result"
    }
   ],
   "source": [
    "data.value_counts()"
   ]
  },
  {
   "cell_type": "code",
   "execution_count": 16,
   "metadata": {
    "id": "il9DFnZa8-4H"
   },
   "outputs": [],
   "source": [
    "def generate_ngrams(text,n):\n",
    "  ngrams=[]\n",
    "  for word in text:\n",
    "    tokens=re.split(\"\\\\s+\",word)\n",
    "    for i in range(len(tokens)-n+1):\n",
    "       temp=[tokens[j] for j in range(i,i+n)]\n",
    "       ngrams.append(\" \".join(temp))\n",
    "  return ngrams"
   ]
  },
  {
   "cell_type": "code",
   "execution_count": 63,
   "metadata": {
    "id": "kqDBjBFML8jC",
    "scrolled": false
   },
   "outputs": [],
   "source": [
    "unigrams=generate_ngrams(hindi_data,1)"
   ]
  },
  {
   "cell_type": "code",
   "execution_count": 64,
   "metadata": {
    "id": "bmDN6vn2MxIt"
   },
   "outputs": [],
   "source": [
    "unigrams_df = pd.DataFrame(unigrams)"
   ]
  },
  {
   "cell_type": "code",
   "execution_count": 65,
   "metadata": {},
   "outputs": [],
   "source": [
    "unigrams_df.rename(columns={0:'sentence'},inplace=True)"
   ]
  },
  {
   "cell_type": "code",
   "execution_count": 66,
   "metadata": {
    "scrolled": false
   },
   "outputs": [],
   "source": [
    "unigrams_df.drop_duplicates(inplace = True)"
   ]
  },
  {
   "cell_type": "code",
   "execution_count": 67,
   "metadata": {},
   "outputs": [],
   "source": [
    "unigrams_df['Language'] = 1"
   ]
  },
  {
   "cell_type": "code",
   "execution_count": 68,
   "metadata": {
    "colab": {
     "base_uri": "https://localhost:8080/",
     "height": 206
    },
    "executionInfo": {
     "elapsed": 132,
     "status": "ok",
     "timestamp": 1665517111973,
     "user": {
      "displayName": "Aadi Sammeta",
      "userId": "18074111941583894854"
     },
     "user_tz": 300
    },
    "id": "xJo0fCuzjh0w",
    "outputId": "8a19d625-5a5d-4b48-b46d-349f53ebc9ae"
   },
   "outputs": [
    {
     "data": {
      "text/html": [
       "<div>\n",
       "<style scoped>\n",
       "    .dataframe tbody tr th:only-of-type {\n",
       "        vertical-align: middle;\n",
       "    }\n",
       "\n",
       "    .dataframe tbody tr th {\n",
       "        vertical-align: top;\n",
       "    }\n",
       "\n",
       "    .dataframe thead th {\n",
       "        text-align: right;\n",
       "    }\n",
       "</style>\n",
       "<table border=\"1\" class=\"dataframe\">\n",
       "  <thead>\n",
       "    <tr style=\"text-align: right;\">\n",
       "      <th></th>\n",
       "      <th>sentence</th>\n",
       "      <th>Language</th>\n",
       "    </tr>\n",
       "  </thead>\n",
       "  <tbody>\n",
       "    <tr>\n",
       "      <th>0</th>\n",
       "      <td>लेकिन</td>\n",
       "      <td>1</td>\n",
       "    </tr>\n",
       "    <tr>\n",
       "      <th>1</th>\n",
       "      <td>इसका</td>\n",
       "      <td>1</td>\n",
       "    </tr>\n",
       "    <tr>\n",
       "      <th>2</th>\n",
       "      <td>काम</td>\n",
       "      <td>1</td>\n",
       "    </tr>\n",
       "    <tr>\n",
       "      <th>3</th>\n",
       "      <td>भी</td>\n",
       "      <td>1</td>\n",
       "    </tr>\n",
       "    <tr>\n",
       "      <th>4</th>\n",
       "      <td>उलझा</td>\n",
       "      <td>1</td>\n",
       "    </tr>\n",
       "    <tr>\n",
       "      <th>...</th>\n",
       "      <td>...</td>\n",
       "      <td>...</td>\n",
       "    </tr>\n",
       "    <tr>\n",
       "      <th>179982</th>\n",
       "      <td>चंद</td>\n",
       "      <td>1</td>\n",
       "    </tr>\n",
       "    <tr>\n",
       "      <th>180020</th>\n",
       "      <td>एक्सप्लेनेटरी</td>\n",
       "      <td>1</td>\n",
       "    </tr>\n",
       "    <tr>\n",
       "      <th>180021</th>\n",
       "      <td>मेमोरेंडम</td>\n",
       "      <td>1</td>\n",
       "    </tr>\n",
       "    <tr>\n",
       "      <th>180024</th>\n",
       "      <td>एटीआर</td>\n",
       "      <td>1</td>\n",
       "    </tr>\n",
       "    <tr>\n",
       "      <th>180045</th>\n",
       "      <td>नीतीश</td>\n",
       "      <td>1</td>\n",
       "    </tr>\n",
       "  </tbody>\n",
       "</table>\n",
       "<p>15650 rows × 2 columns</p>\n",
       "</div>"
      ],
      "text/plain": [
       "             sentence  Language\n",
       "0               लेकिन         1\n",
       "1                इसका         1\n",
       "2                 काम         1\n",
       "3                  भी         1\n",
       "4                उलझा         1\n",
       "...               ...       ...\n",
       "179982            चंद         1\n",
       "180020  एक्सप्लेनेटरी         1\n",
       "180021      मेमोरेंडम         1\n",
       "180024          एटीआर         1\n",
       "180045          नीतीश         1\n",
       "\n",
       "[15650 rows x 2 columns]"
      ]
     },
     "execution_count": 68,
     "metadata": {},
     "output_type": "execute_result"
    }
   ],
   "source": [
    "unigrams_df"
   ]
  },
  {
   "cell_type": "code",
   "execution_count": 60,
   "metadata": {},
   "outputs": [
    {
     "data": {
      "text/html": [
       "<div>\n",
       "<style scoped>\n",
       "    .dataframe tbody tr th:only-of-type {\n",
       "        vertical-align: middle;\n",
       "    }\n",
       "\n",
       "    .dataframe tbody tr th {\n",
       "        vertical-align: top;\n",
       "    }\n",
       "\n",
       "    .dataframe thead th {\n",
       "        text-align: right;\n",
       "    }\n",
       "</style>\n",
       "<table border=\"1\" class=\"dataframe\">\n",
       "  <thead>\n",
       "    <tr style=\"text-align: right;\">\n",
       "      <th></th>\n",
       "      <th>sentence</th>\n",
       "      <th>Language</th>\n",
       "      <th>language_encoded</th>\n",
       "    </tr>\n",
       "  </thead>\n",
       "  <tbody>\n",
       "    <tr>\n",
       "      <th>0</th>\n",
       "      <td>लेकिन</td>\n",
       "      <td>1</td>\n",
       "      <td>0</td>\n",
       "    </tr>\n",
       "    <tr>\n",
       "      <th>1</th>\n",
       "      <td>इसका</td>\n",
       "      <td>1</td>\n",
       "      <td>0</td>\n",
       "    </tr>\n",
       "    <tr>\n",
       "      <th>2</th>\n",
       "      <td>काम</td>\n",
       "      <td>1</td>\n",
       "      <td>0</td>\n",
       "    </tr>\n",
       "    <tr>\n",
       "      <th>3</th>\n",
       "      <td>भी</td>\n",
       "      <td>1</td>\n",
       "      <td>0</td>\n",
       "    </tr>\n",
       "    <tr>\n",
       "      <th>4</th>\n",
       "      <td>उलझा</td>\n",
       "      <td>1</td>\n",
       "      <td>0</td>\n",
       "    </tr>\n",
       "  </tbody>\n",
       "</table>\n",
       "</div>"
      ],
      "text/plain": [
       "  sentence  Language  language_encoded\n",
       "0    लेकिन         1                 0\n",
       "1     इसका         1                 0\n",
       "2      काम         1                 0\n",
       "3       भी         1                 0\n",
       "4     उलझा         1                 0"
      ]
     },
     "execution_count": 60,
     "metadata": {},
     "output_type": "execute_result"
    }
   ],
   "source": [
    "#using LabelEncoder to get placeholder number values for categorical variabel 'language'\n",
    "\n",
    "from sklearn.preprocessing import LabelEncoder # Creates placeholders for categorical variables\n",
    "\n",
    "\n",
    "le = LabelEncoder()\n",
    "unigrams_df['language_encoded'] = le.fit_transform(unigrams_df['Language'])\n",
    "unigrams_df.head()"
   ]
  },
  {
   "cell_type": "code",
   "execution_count": 69,
   "metadata": {},
   "outputs": [],
   "source": [
    "# defining input variable\n",
    "# vectorizing input varible 'clean_text' into a matrix \n",
    "from sklearn.feature_extraction.text import CountVectorizer # converts text into vector matrix\n",
    "\n",
    "\n",
    "x = unigrams_df['sentence']\n",
    "\n",
    "cv = CountVectorizer() # ngram_range=(1,2)\n",
    "x = cv.fit_transform(x)\n",
    "\n",
    "# changing the datatype of the number into uint8 to consume less memory\n",
    "x = x.astype('uint8') # uint8 and float32"
   ]
  },
  {
   "cell_type": "code",
   "execution_count": 70,
   "metadata": {},
   "outputs": [],
   "source": [
    "# defining target variable\n",
    "\n",
    "y = unigrams_df['Language']"
   ]
  },
  {
   "cell_type": "code",
   "execution_count": 71,
   "metadata": {},
   "outputs": [],
   "source": [
    "from collections import defaultdict\n",
    "\n",
    "positiveValues=defaultdict(int)\n",
    "#get the count of every word in the column dataframes"
   ]
  },
  {
   "cell_type": "code",
   "execution_count": 72,
   "metadata": {},
   "outputs": [],
   "source": [
    "import nltk\n",
    "from nltk.corpus import stopwords"
   ]
  },
  {
   "cell_type": "code",
   "execution_count": 73,
   "metadata": {},
   "outputs": [],
   "source": [
    "#get the count of every word in both the columns of train \n",
    "for text in data:\n",
    "    for word in generate_ngrams(hindi_data,1):\n",
    "        positiveValues[word]+=1"
   ]
  },
  {
   "cell_type": "code",
   "execution_count": 74,
   "metadata": {},
   "outputs": [],
   "source": [
    "df_positive = sorted(positiveValues.items(),key=lambda x:x[1],reverse=True)"
   ]
  },
  {
   "cell_type": "code",
   "execution_count": 75,
   "metadata": {},
   "outputs": [],
   "source": [
    "df_positive = pd.DataFrame(df_positive)"
   ]
  },
  {
   "cell_type": "code",
   "execution_count": 76,
   "metadata": {},
   "outputs": [
    {
     "data": {
      "text/html": [
       "<div>\n",
       "<style scoped>\n",
       "    .dataframe tbody tr th:only-of-type {\n",
       "        vertical-align: middle;\n",
       "    }\n",
       "\n",
       "    .dataframe tbody tr th {\n",
       "        vertical-align: top;\n",
       "    }\n",
       "\n",
       "    .dataframe thead th {\n",
       "        text-align: right;\n",
       "    }\n",
       "</style>\n",
       "<table border=\"1\" class=\"dataframe\">\n",
       "  <thead>\n",
       "    <tr style=\"text-align: right;\">\n",
       "      <th></th>\n",
       "      <th>0</th>\n",
       "      <th>1</th>\n",
       "    </tr>\n",
       "  </thead>\n",
       "  <tbody>\n",
       "    <tr>\n",
       "      <th>0</th>\n",
       "      <td>के</td>\n",
       "      <td>9081</td>\n",
       "    </tr>\n",
       "    <tr>\n",
       "      <th>1</th>\n",
       "      <td>में</td>\n",
       "      <td>6055</td>\n",
       "    </tr>\n",
       "    <tr>\n",
       "      <th>2</th>\n",
       "      <td>है</td>\n",
       "      <td>5894</td>\n",
       "    </tr>\n",
       "    <tr>\n",
       "      <th>3</th>\n",
       "      <td>और</td>\n",
       "      <td>5288</td>\n",
       "    </tr>\n",
       "    <tr>\n",
       "      <th>4</th>\n",
       "      <td>की</td>\n",
       "      <td>4368</td>\n",
       "    </tr>\n",
       "    <tr>\n",
       "      <th>5</th>\n",
       "      <td>से</td>\n",
       "      <td>3222</td>\n",
       "    </tr>\n",
       "    <tr>\n",
       "      <th>6</th>\n",
       "      <td>को</td>\n",
       "      <td>3087</td>\n",
       "    </tr>\n",
       "    <tr>\n",
       "      <th>7</th>\n",
       "      <td>का</td>\n",
       "      <td>2865</td>\n",
       "    </tr>\n",
       "    <tr>\n",
       "      <th>8</th>\n",
       "      <td>एक</td>\n",
       "      <td>2538</td>\n",
       "    </tr>\n",
       "    <tr>\n",
       "      <th>9</th>\n",
       "      <td>हैं</td>\n",
       "      <td>2195</td>\n",
       "    </tr>\n",
       "  </tbody>\n",
       "</table>\n",
       "</div>"
      ],
      "text/plain": [
       "     0     1\n",
       "0   के  9081\n",
       "1  में  6055\n",
       "2   है  5894\n",
       "3   और  5288\n",
       "4   की  4368\n",
       "5   से  3222\n",
       "6   को  3087\n",
       "7   का  2865\n",
       "8   एक  2538\n",
       "9  हैं  2195"
      ]
     },
     "execution_count": 76,
     "metadata": {},
     "output_type": "execute_result"
    }
   ],
   "source": [
    "df_positive.head(10)"
   ]
  },
  {
   "cell_type": "code",
   "execution_count": 77,
   "metadata": {},
   "outputs": [
    {
     "data": {
      "image/png": "[encoded data removed]",
      "text/plain": [
       "<Figure size 1152x288 with 1 Axes>"
      ]
     },
     "metadata": {
      "needs_background": "light"
     },
     "output_type": "display_data"
    }
   ],
   "source": [
    "plt.figure(1,figsize=(16,4))\n",
    "plt.bar(df_positive[0][:10],df_positive[1][:10], color ='green',\n",
    "        width = 0.4)\n",
    "plt.xlabel(\"Words in dataframe\")\n",
    "plt.ylabel(\"Count\")\n",
    "plt.title(\"Top words in dataframe-UNIGRAM ANALYSIS\")\n",
    "plt.show()"
   ]
  },
  {
   "cell_type": "markdown",
   "metadata": {},
   "source": [
    "### Preprocessing "
   ]
  },
  {
   "cell_type": "code",
   "execution_count": 78,
   "metadata": {},
   "outputs": [],
   "source": [
    "# splitting data into training and testing datasets\n",
    "\n",
    "from sklearn.model_selection import train_test_split # split data into training and testing sets\n",
    "\n",
    "x_train, x_test, y_train, y_test = train_test_split(x,y, test_size=0.2)"
   ]
  },
  {
   "cell_type": "code",
   "execution_count": 79,
   "metadata": {},
   "outputs": [],
   "source": [
    "# converting csr matrix into np.ndarray supported by tensorflow\n",
    "\n",
    "x_train = x_train.toarray()\n",
    "x_test = x_test.toarray()"
   ]
  },
  {
   "cell_type": "code",
   "execution_count": 86,
   "metadata": {},
   "outputs": [
    {
     "name": "stdout",
     "output_type": "stream",
     "text": [
      "(12520, 1, 2701) (3130, 1, 2701) (12520,) (3130,)\n"
     ]
    }
   ],
   "source": [
    "# shapes of the various datasets\n",
    "\n",
    "print(x_train.shape, x_test.shape, y_train.shape, y_test.shape)"
   ]
  },
  {
   "cell_type": "code",
   "execution_count": 82,
   "metadata": {},
   "outputs": [],
   "source": [
    "x_train = np.expand_dims(x_train, axis=1)\n",
    "x_test = np.expand_dims(x_test, axis=1)"
   ]
  },
  {
   "cell_type": "code",
   "execution_count": 83,
   "metadata": {},
   "outputs": [],
   "source": [
    "# epochs and batch_size hyperparameters\n",
    "\n",
    "EPOCHS = 10\n",
    "BATCH_SIZE = 128"
   ]
  },
  {
   "cell_type": "code",
   "execution_count": 137,
   "metadata": {},
   "outputs": [],
   "source": [
    "## Model Building \n",
    "model = Sequential()\n",
    "model.add(Conv1D(filters=128, kernel_size=1, activation='relu', input_shape=(1, 2701)))\n",
    "model.add(Conv1D(filters=64, kernel_size=1, activation='relu'))\n",
    "model.add(MaxPooling1D(pool_size=1))\n",
    "model.add(Dropout(0.5))\n",
    "model.add(Flatten())\n",
    "model.add(RepeatVector(30))\n",
    "model.add(Dense(100, activation='softmax'))\n",
    "model.add(Dropout(0.5))\n",
    "model.add(Dense(1))\n",
    "\n",
    "\n",
    "opt =  adam_v2.Adam(lr=0.0002, beta_1=0.5) \n",
    "\n",
    "## Compiling the model \n",
    "model.compile(optimizer=opt, loss='mean_squared_error', metrics=['accuracy'])"
   ]
  },
  {
   "cell_type": "code",
   "execution_count": 138,
   "metadata": {},
   "outputs": [
    {
     "name": "stdout",
     "output_type": "stream",
     "text": [
      "Model: \"sequential_17\"\n",
      "_________________________________________________________________\n",
      " Layer (type)                Output Shape              Param #   \n",
      "=================================================================\n",
      " conv1d_34 (Conv1D)          (None, 1, 128)            345856    \n",
      "                                                                 \n",
      " conv1d_35 (Conv1D)          (None, 1, 64)             8256      \n",
      "                                                                 \n",
      " max_pooling1d_17 (MaxPoolin  (None, 1, 64)            0         \n",
      " g1D)                                                            \n",
      "                                                                 \n",
      " dropout_32 (Dropout)        (None, 1, 64)             0         \n",
      "                                                                 \n",
      " flatten_16 (Flatten)        (None, 64)                0         \n",
      "                                                                 \n",
      " repeat_vector_15 (RepeatVec  (None, 30, 64)           0         \n",
      " tor)                                                            \n",
      "                                                                 \n",
      " dense_31 (Dense)            (None, 30, 100)           6500      \n",
      "                                                                 \n",
      " dropout_33 (Dropout)        (None, 30, 100)           0         \n",
      "                                                                 \n",
      " dense_32 (Dense)            (None, 30, 1)             101       \n",
      "                                                                 \n",
      "=================================================================\n",
      "Total params: 360,713\n",
      "Trainable params: 360,713\n",
      "Non-trainable params: 0\n",
      "_________________________________________________________________\n",
      "None\n"
     ]
    }
   ],
   "source": [
    "# After the model has been constructed, we'll summarise it\n",
    "print(model.summary())"
   ]
  },
  {
   "cell_type": "code",
   "execution_count": 139,
   "metadata": {},
   "outputs": [
    {
     "name": "stdout",
     "output_type": "stream",
     "text": [
      "Epoch 1/10\n",
      "392/392 [==============================] - 7s 14ms/step - loss: 0.6607 - accuracy: 0.0603 - val_loss: 0.3687 - val_accuracy: 0.0000e+00\n",
      "Epoch 2/10\n",
      "392/392 [==============================] - 5s 13ms/step - loss: 0.3107 - accuracy: 0.4407 - val_loss: 0.1976 - val_accuracy: 1.0000\n",
      "Epoch 3/10\n",
      "392/392 [==============================] - 5s 13ms/step - loss: 0.1943 - accuracy: 0.6895 - val_loss: 0.1052 - val_accuracy: 1.0000\n",
      "Epoch 4/10\n",
      "392/392 [==============================] - 5s 13ms/step - loss: 0.1316 - accuracy: 0.8183 - val_loss: 0.0586 - val_accuracy: 1.0000\n",
      "Epoch 5/10\n",
      "392/392 [==============================] - 5s 13ms/step - loss: 0.0947 - accuracy: 0.8949 - val_loss: 0.0327 - val_accuracy: 1.0000\n",
      "Epoch 6/10\n",
      "392/392 [==============================] - 5s 13ms/step - loss: 0.0704 - accuracy: 0.9435 - val_loss: 0.0190 - val_accuracy: 1.0000\n",
      "Epoch 7/10\n",
      "392/392 [==============================] - 5s 13ms/step - loss: 0.0532 - accuracy: 0.9727 - val_loss: 0.0097 - val_accuracy: 1.0000\n",
      "Epoch 8/10\n",
      "392/392 [==============================] - 5s 13ms/step - loss: 0.0441 - accuracy: 0.9824 - val_loss: 0.0047 - val_accuracy: 1.0000\n",
      "Epoch 9/10\n",
      "392/392 [==============================] - 5s 14ms/step - loss: 0.0367 - accuracy: 0.9924 - val_loss: 0.0040 - val_accuracy: 1.0000\n",
      "Epoch 10/10\n",
      "392/392 [==============================] - 5s 14ms/step - loss: 0.0279 - accuracy: 0.9984 - val_loss: 0.0029 - val_accuracy: 1.0000\n"
     ]
    }
   ],
   "source": [
    "### Model Fitting \n",
    "history = model.fit(x_train,y_train,validation_data=(x_test,y_test),epochs=10, verbose=1 )"
   ]
  },
  {
   "cell_type": "code",
   "execution_count": 140,
   "metadata": {},
   "outputs": [
    {
     "data": {
      "text/plain": [
       "<matplotlib.legend.Legend at 0x20f0d2c87c0>"
      ]
     },
     "execution_count": 140,
     "metadata": {},
     "output_type": "execute_result"
    },
    {
     "data": {
      "image/png": "[encoded data removed]",
      "text/plain": [
       "<Figure size 432x288 with 1 Axes>"
      ]
     },
     "metadata": {
      "needs_background": "light"
     },
     "output_type": "display_data"
    }
   ],
   "source": [
    "plt.plot(history.history['loss'], label='train loss')\n",
    "plt.plot(history.history['val_loss'], label='val loss')\n",
    "plt.xlabel(\"epoch\")\n",
    "plt.ylabel(\"Loss\")\n",
    "plt.legend()"
   ]
  },
  {
   "cell_type": "code",
   "execution_count": 142,
   "metadata": {},
   "outputs": [
    {
     "data": {
      "text/plain": [
       "<matplotlib.legend.Legend at 0x20f09347f70>"
      ]
     },
     "execution_count": 142,
     "metadata": {},
     "output_type": "execute_result"
    },
    {
     "data": {
      "image/png": "[encoded data removed]",
      "text/plain": [
       "<Figure size 432x288 with 1 Axes>"
      ]
     },
     "metadata": {
      "needs_background": "light"
     },
     "output_type": "display_data"
    }
   ],
   "source": [
    "plt.plot(history.history['accuracy'], label='train accuracy')\n",
    "plt.plot(history.history['val_accuracy'], label='val accuracy')\n",
    "plt.xlabel(\"epoch\")\n",
    "plt.ylabel(\"accuracy\")\n",
    "plt.legend()"
   ]
  },
  {
   "cell_type": "code",
   "execution_count": 156,
   "metadata": {},
   "outputs": [],
   "source": [
    "# using the model for prediction\n",
    "\n",
    "sent = \"के\"\n",
    "\n",
    "\n",
    "sent = cv.transform([sent])\n",
    "#sent = np.expand_dims(sent, axis=-1)"
   ]
  },
  {
   "cell_type": "code",
   "execution_count": 157,
   "metadata": {},
   "outputs": [
    {
     "data": {
      "text/plain": [
       "(1, 2701)"
      ]
     },
     "execution_count": 157,
     "metadata": {},
     "output_type": "execute_result"
    }
   ],
   "source": [
    "sent.shape"
   ]
  },
  {
   "cell_type": "code",
   "execution_count": 149,
   "metadata": {},
   "outputs": [
    {
     "ename": "ValueError",
     "evalue": "Failed to convert a NumPy array to a Tensor (Unsupported object type csr_matrix).",
     "output_type": "error",
     "traceback": [
      "\u001b[1;31m---------------------------------------------------------------------------\u001b[0m",
      "\u001b[1;31mValueError\u001b[0m                                Traceback (most recent call last)",
      "Input \u001b[1;32mIn [149]\u001b[0m, in \u001b[0;36m<cell line: 2>\u001b[1;34m()\u001b[0m\n\u001b[0;32m      1\u001b[0m sent \u001b[38;5;241m=\u001b[39m np\u001b[38;5;241m.\u001b[39mexpand_dims(sent, axis\u001b[38;5;241m=\u001b[39m\u001b[38;5;241m0\u001b[39m)\n\u001b[1;32m----> 2\u001b[0m ans \u001b[38;5;241m=\u001b[39m \u001b[43mmodel\u001b[49m\u001b[38;5;241;43m.\u001b[39;49m\u001b[43mpredict\u001b[49m\u001b[43m(\u001b[49m\u001b[43msent\u001b[49m\u001b[43m)\u001b[49m\n\u001b[0;32m      3\u001b[0m ans \u001b[38;5;241m=\u001b[39m np\u001b[38;5;241m.\u001b[39margmax(ans)\n\u001b[0;32m      4\u001b[0m le\u001b[38;5;241m.\u001b[39minverse_transform([ans])\n",
      "File \u001b[1;32m~\\anaconda3\\lib\\site-packages\\keras\\utils\\traceback_utils.py:67\u001b[0m, in \u001b[0;36mfilter_traceback.<locals>.error_handler\u001b[1;34m(*args, **kwargs)\u001b[0m\n\u001b[0;32m     65\u001b[0m \u001b[38;5;28;01mexcept\u001b[39;00m \u001b[38;5;167;01mException\u001b[39;00m \u001b[38;5;28;01mas\u001b[39;00m e:  \u001b[38;5;66;03m# pylint: disable=broad-except\u001b[39;00m\n\u001b[0;32m     66\u001b[0m   filtered_tb \u001b[38;5;241m=\u001b[39m _process_traceback_frames(e\u001b[38;5;241m.\u001b[39m__traceback__)\n\u001b[1;32m---> 67\u001b[0m   \u001b[38;5;28;01mraise\u001b[39;00m e\u001b[38;5;241m.\u001b[39mwith_traceback(filtered_tb) \u001b[38;5;28;01mfrom\u001b[39;00m \u001b[38;5;28mNone\u001b[39m\n\u001b[0;32m     68\u001b[0m \u001b[38;5;28;01mfinally\u001b[39;00m:\n\u001b[0;32m     69\u001b[0m   \u001b[38;5;28;01mdel\u001b[39;00m filtered_tb\n",
      "File \u001b[1;32m~\\anaconda3\\lib\\site-packages\\tensorflow\\python\\framework\\constant_op.py:102\u001b[0m, in \u001b[0;36mconvert_to_eager_tensor\u001b[1;34m(value, ctx, dtype)\u001b[0m\n\u001b[0;32m    100\u001b[0m     dtype \u001b[38;5;241m=\u001b[39m dtypes\u001b[38;5;241m.\u001b[39mas_dtype(dtype)\u001b[38;5;241m.\u001b[39mas_datatype_enum\n\u001b[0;32m    101\u001b[0m ctx\u001b[38;5;241m.\u001b[39mensure_initialized()\n\u001b[1;32m--> 102\u001b[0m \u001b[38;5;28;01mreturn\u001b[39;00m \u001b[43mops\u001b[49m\u001b[38;5;241;43m.\u001b[39;49m\u001b[43mEagerTensor\u001b[49m\u001b[43m(\u001b[49m\u001b[43mvalue\u001b[49m\u001b[43m,\u001b[49m\u001b[43m \u001b[49m\u001b[43mctx\u001b[49m\u001b[38;5;241;43m.\u001b[39;49m\u001b[43mdevice_name\u001b[49m\u001b[43m,\u001b[49m\u001b[43m \u001b[49m\u001b[43mdtype\u001b[49m\u001b[43m)\u001b[49m\n",
      "\u001b[1;31mValueError\u001b[0m: Failed to convert a NumPy array to a Tensor (Unsupported object type csr_matrix)."
     ]
    }
   ],
   "source": [
    "sent = np.expand_dims(sent, axis=0)\n",
    "ans = model.predict(sent)\n",
    "ans = np.argmax(ans)\n",
    "le.inverse_transform([ans])"
   ]
  },
  {
   "cell_type": "code",
   "execution_count": null,
   "metadata": {},
   "outputs": [],
   "source": []
  }
 ],
 "metadata": {
  "colab": {
   "authorship_tag": "ABX9TyPL172wrEY6MYH5+CyORemV",
   "collapsed_sections": [],
   "mount_file_id": "1El3LkA1Qd54HrIGWVbpS9UipDoLBzN2m",
   "provenance": []
  },
  "kernelspec": {
   "display_name": "Python 3",
   "language": "python",
   "name": "python3"
  },
  "language_info": {
   "codemirror_mode": {
    "name": "ipython",
    "version": 3
   },
   "file_extension": ".py",
   "mimetype": "text/x-python",
   "name": "python",
   "nbconvert_exporter": "python",
   "pygments_lexer": "ipython3",
   "version": "3.8.8"
  }
 },
 "nbformat": 4,
 "nbformat_minor": 1
}
